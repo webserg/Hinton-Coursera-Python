{
 "cells": [
  {
   "cell_type": "code",
   "execution_count": 15,
   "metadata": {
    "collapsed": true
   },
   "outputs": [],
   "source": [
    "import numpy as np\n",
    "import scipy.io as sio\n"
   ]
  },
  {
   "cell_type": "markdown",
   "metadata": {},
   "source": [
    " '''This method loads the training, validation and test set.\n",
    "    It also divides the training set into mini-batches.\n",
    "    Inputs:\n",
    "        N: Mini-batch size.\n",
    "    Outputs:\n",
    "        train_input: An array of size D X N X M, where\n",
    "            D: number of input dimensions (in this case, 3).\n",
    "            N: size of each mini-batch (in this case, 100).\n",
    "            M: number of minibatches.\n",
    "        train_target: An array of size 1 X N X M.\n",
    "        valid_input: An array of size D X number of points in the validation set.\n",
    "        test: An array of size D X number of points in the test set.\n",
    "        vocab: Vocabulary containing index to word mapping.\n",
    "    '''"
   ]
  },
  {
   "cell_type": "code",
   "execution_count": 17,
   "metadata": {},
   "outputs": [],
   "source": [
    "N=1\n",
    "data = sio.loadmat('data.mat')\n",
    "trainData = data['data'][0][0]['trainData']\n",
    "validData = data['data'][0][0]['validData']\n",
    "testData = data['data'][0][0]['testData']\n",
    "vocab = data['data'][0][0]['vocab']\n",
    "\n",
    "numdims = trainData.shape[0]\n",
    "D = numdims - 1\n",
    "M = int(trainData.shape[1] / N)\n",
    "\n",
    "train_input = trainData[0:D, 0:N * M].reshape(D, N, M, order=\"F\")\n",
    "train_target = trainData[D, 0:N * M].reshape(1, N, M, order=\"F\")\n",
    "\n",
    "valid_input = validData[0:D]\n",
    "valid_target = validData[D].reshape(1, validData.shape[1], order=\"F\")\n",
    "test_input = testData[0:D]\n",
    "test_target = testData[D].reshape(1, testData.shape[1], order=\"F\")\n"
   ]
  },
  {
   "cell_type": "code",
   "execution_count": 18,
   "metadata": {},
   "outputs": [],
   "source": [
    "assert trainData.shape == (4, 372550)\n",
    "assert validData.shape == (4, 46568)"
   ]
  },
  {
   "cell_type": "code",
   "execution_count": 19,
   "metadata": {},
   "outputs": [
    {
     "data": {
      "text/plain": [
       "(3, 1, 372550)"
      ]
     },
     "execution_count": 19,
     "metadata": {},
     "output_type": "execute_result"
    }
   ],
   "source": [
    "train_input.shape"
   ]
  },
  {
   "cell_type": "code",
   "execution_count": 21,
   "metadata": {},
   "outputs": [],
   "source": [
    "batchsize = 100  # Mini-batch size.\n",
    "learning_rate = 0.1  # Learning rate; default = 0.1.\n",
    "momentum = 0.9  # Momentum; default = 0.9.\n",
    "numhid1 = 50  # Dimensionality of embedding space; default = 50.\n",
    "numhid2 = 200  # Number of units in hidden layer; default = 200.\n",
    "init_wt = 0.01  # Standard deviation of the normal distribution\n",
    "# which is sampled to get the initial weights; default = 0.01\n",
    "\n",
    "# VARIABLES FOR TRACKING TRAINING PROGRESS\n",
    "show_training_CE_after = 100\n",
    "show_validation_CE_after = 1000"
   ]
  },
  {
   "cell_type": "code",
   "execution_count": 22,
   "metadata": {},
   "outputs": [],
   "source": [
    "# Decrease all word indices by 1: 1-250 -> 0-249\n",
    "train_input = train_input - 1\n",
    "train_target = train_target - 1\n",
    "valid_input = valid_input - 1\n",
    "valid_target = valid_target - 1\n",
    "test_input = test_input - 1\n",
    "test_target = test_target - 1\n"
   ]
  },
  {
   "cell_type": "code",
   "execution_count": 23,
   "metadata": {},
   "outputs": [],
   "source": [
    "[numwords, batchsize, numbatches] = train_input.shape\n",
    "vocab_size = vocab.shape[1]"
   ]
  },
  {
   "cell_type": "code",
   "execution_count": 24,
   "metadata": {},
   "outputs": [],
   "source": [
    "# INITIALIZE WEIGHTS AND BIASES\n",
    "word_embedding_weights = init_wt * np.random.randn(vocab_size, numhid1)\n",
    "embed_to_hid_weights = init_wt * np.random.randn(numwords * numhid1, numhid2)\n",
    "hid_to_output_weights = init_wt * np.random.randn(numhid2, vocab_size)\n",
    "hid_bias = np.zeros((numhid2, 1))\n",
    "output_bias = np.zeros((vocab_size, 1))"
   ]
  },
  {
   "cell_type": "code",
   "execution_count": 27,
   "metadata": {},
   "outputs": [],
   "source": [
    "word_embedding_weights_delta = np.zeros((vocab_size, numhid1))\n",
    "word_embedding_weights_gradient = np.zeros((vocab_size, numhid1))\n",
    "embed_to_hid_weights_delta = np.zeros((numwords * numhid1, numhid2))\n",
    "hid_to_output_weights_delta = np.zeros((numhid2, vocab_size))\n",
    "hid_bias_delta = np.zeros((numhid2, 1))\n",
    "output_bias_delta = np.zeros((vocab_size, 1))\n",
    "expansion_matrix = np.eye(vocab_size)\n",
    "count = 0\n",
    "tiny = np.exp(-30)"
   ]
  },
  {
   "cell_type": "code",
   "execution_count": 28,
   "metadata": {},
   "outputs": [],
   "source": [
    "epoch=1"
   ]
  }
 ],
 "metadata": {
  "kernelspec": {
   "display_name": "Python 3",
   "language": "python",
   "name": "python3"
  },
  "language_info": {
   "codemirror_mode": {
    "name": "ipython",
    "version": 3
   },
   "file_extension": ".py",
   "mimetype": "text/x-python",
   "name": "python",
   "nbconvert_exporter": "python",
   "pygments_lexer": "ipython3",
   "version": "3.6.3"
  }
 },
 "nbformat": 4,
 "nbformat_minor": 2
}
